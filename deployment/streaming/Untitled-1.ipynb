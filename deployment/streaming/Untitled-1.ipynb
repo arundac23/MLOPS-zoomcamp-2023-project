{
 "cells": [
  {
   "cell_type": "code",
   "execution_count": null,
   "metadata": {},
   "outputs": [],
   "source": [
    "{\n",
    "    \"Records\": [\n",
    "        {\n",
    "            \"kinesis\": {\n",
    "                \"kinesisSchemaVersion\": \"1.0\",\n",
    "                \"partitionKey\": \"1\",\n",
    "                \"sequenceNumber\": \"49643747291208665319133447827891373959503269879575740418\",\n",
    "                \"data\": \"SGVsbG8sIHRoaXMgaXMgYSB0ZXN0Lg==\",\n",
    "                \"approximateArrivalTimestamp\": 1692487058.233\n",
    "            },\n",
    "            \"eventSource\": \"aws:kinesis\",\n",
    "            \"eventVersion\": \"1.0\",\n",
    "            \"eventID\": \"shardId-000000000000:49643747291208665319133447827891373959503269879575740418\",\n",
    "            \"eventName\": \"aws:kinesis:record\",\n",
    "            \"invokeIdentityArn\": \"arn:aws:iam::150675264512:role/lambda-kinesis-role\",\n",
    "            \"awsRegion\": \"us-east-2\",\n",
    "            \"eventSourceARN\": \"arn:aws:kinesis:us-east-2:150675264512:stream/ride-events\"\n",
    "        }\n",
    "    ]\n",
    "}"
   ]
  },
  {
   "cell_type": "code",
   "execution_count": null,
   "metadata": {},
   "outputs": [],
   "source": [
    "{\n",
    "    \"Records\": [\n",
    "        {\n",
    "            \"kinesis\": {\n",
    "                \"kinesisSchemaVersion\": \"1.0\",\n",
    "                \"partitionKey\": \"1\",\n",
    "                \"sequenceNumber\": \"49643747291208665319133448483526904785285569854555815938\",\n",
    "                \"data\": \"ewogICAgICAgICJyaWRlIjogewogICAgICAgICAgICAicGlja3VwX2NvbW11bml0eV9hcmVhIjogMTMwLAogICAgICAgICAgICAiZHJvcG9mZl9jb21tdW5pdHlfYXJlYSI6IDIwNSwKICAgICAgICB9LCAKICAgICAgICAicmlkZV9pZCI6IDEyMzQ1NgogICAgfQ==\",\n",
    "                \"approximateArrivalTimestamp\": 1692488138.731\n",
    "            },\n",
    "            \"eventSource\": \"aws:kinesis\",\n",
    "            \"eventVersion\": \"1.0\",\n",
    "            \"eventID\": \"shardId-000000000000:49643747291208665319133448483526904785285569854555815938\",\n",
    "            \"eventName\": \"aws:kinesis:record\",\n",
    "            \"invokeIdentityArn\": \"arn:aws:iam::150675264512:role/lambda-kinesis-role\",\n",
    "            \"awsRegion\": \"us-east-2\",\n",
    "            \"eventSourceARN\": \"arn:aws:kinesis:us-east-2:150675264512:stream/ride-events\"\n",
    "        }\n",
    "    ]\n",
    "}\n",
    "\n"
   ]
  },
  {
   "cell_type": "code",
   "execution_count": null,
   "metadata": {},
   "outputs": [],
   "source": []
  },
  {
   "cell_type": "code",
   "execution_count": null,
   "metadata": {},
   "outputs": [],
   "source": [
    "import json\n",
    "import base64\n",
    "\n",
    "def prepare_features(ride):\n",
    "    features = {}\n",
    "    features['pickup_community_area'] = ride['pickup_community_area'],\n",
    "    features['dropoff_community_area'] = ride['dropoff_community_area']\n",
    "    return features\n",
    "    \n",
    "def predict(features):\n",
    "    return 10.0\n",
    "    \n",
    "def lambda_handler(event, context):\n",
    "    # ride = event['ride']\n",
    "    # ride_id = event['ride_id']\n",
    "    \n",
    "    # features=prepare_features(ride)\n",
    "    # prediction = predict(features)\n",
    "    \n",
    "    print(json.dumps(event))\n",
    "    \n",
    "    for record in event['Records']:\n",
    "        encoded_data = record['kinesis']['data']\n",
    "        decoded_data = base64.b64decode(encoded_data).decode('utf-8')\n",
    "        # ride_event = json.loads(decoded_data)\n",
    "        print(decoded_data)\n",
    "    \n",
    "    prediction = 10.0\n",
    "    ride_id = 123\n",
    "    return {\n",
    "        'ride_duration': prediction,\n",
    "        'ride_id' : ride_id\n",
    "    }"
   ]
  },
  {
   "cell_type": "code",
   "execution_count": null,
   "metadata": {},
   "outputs": [],
   "source": [
    "{\n",
    "    \"Records\": [\n",
    "        {\n",
    "            \"kinesis\": {\n",
    "                \"kinesisSchemaVersion\": \"1.0\",\n",
    "                \"partitionKey\": \"13579\",\n",
    "                \"sequenceNumber\": \"49643758950751878957296203541269326832459414085688098818\",\n",
    "                \"data\": \"eyJtb2RlbCI6ICJjaGljYWdvLXJpZGUtZHVyYXRpb24tcHJlZGljdGlvbi1tb2RlbCIsICJ2ZXJzaW9uIjogIjEyMjMiLCAicHJlZGljdGlvbiI6IHsicmlkZV9kdXJhdGlvbiI6IDIwLjkyODI3NzkyODA0NTYxMywgInJpZGVfaWQiOiAxMzU3OX19\",\n",
    "                \"approximateArrivalTimestamp\": 1692513874.201\n",
    "            },\n",
    "            \"eventSource\": \"aws:kinesis\",\n",
    "            \"eventVersion\": \"1.0\",\n",
    "            \"eventID\": \"shardId-000000000000:49643758950751878957296203541269326832459414085688098818\",\n",
    "            \"eventName\": \"aws:kinesis:record\",\n",
    "            \"invokeIdentityArn\": \"arn:aws:iam::150675264512:role/lambda-kinesis-role\",\n",
    "            \"awsRegion\": \"us-east-2\",\n",
    "            \"eventSourceARN\": \"arn:aws:kinesis:us-east-2:150675264512:stream/chicago-ride-predictions\"\n",
    "        }\n",
    "    ]\n",
    "}\n"
   ]
  },
  {
   "cell_type": "code",
   "execution_count": null,
   "metadata": {},
   "outputs": [],
   "source": [
    " {'model': 'chicago-ride-duration-prediction-model',\n",
    "E          'prediction': {'ride_duration': 20.928277928045613, 'ride_id': 13579},\n",
    "E          'version': '1223'}\n",
    " \n",
    " "
   ]
  },
  {
   "cell_type": "code",
   "execution_count": null,
   "metadata": {},
   "outputs": [],
   "source": [
    "{'model': 'chicago-ride-duration-prediction-model', 'version': '1223', 'prediction': {'ride_duration': 20.928277928045613, 'ride_id': 13579}}"
   ]
  }
 ],
 "metadata": {
  "language_info": {
   "name": "python"
  },
  "orig_nbformat": 4
 },
 "nbformat": 4,
 "nbformat_minor": 2
}
