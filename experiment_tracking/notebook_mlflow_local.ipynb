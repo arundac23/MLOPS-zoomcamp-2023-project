{
 "cells": [
  {
   "cell_type": "code",
   "execution_count": 1,
   "metadata": {},
   "outputs": [],
   "source": [
    "import datetime\n",
    "from IPython.display import display\n",
    "\n",
    "\n",
    "\n",
    "from typing import List\n",
    "import pandas as pd\n",
    "import numpy as np\n",
    "import seaborn as sns\n",
    "import matplotlib.pyplot as plt\n",
    "\n",
    "from sklearn.feature_extraction import DictVectorizer\n",
    "from sklearn.linear_model import LinearRegression, Lasso, Ridge\n",
    "from sklearn.svm import LinearSVR\n",
    "from sklearn.ensemble import RandomForestRegressor, GradientBoostingRegressor, ExtraTreesRegressor\n",
    "\n",
    "from sklearn.metrics import mean_squared_error\n",
    "\n",
    "from sklearn.pipeline import make_pipeline\n",
    "\n",
    "from datetime import datetime\n",
    "import requests\n",
    "import mlflow\n",
    "import pickle\n",
    "from hyperopt import hp, STATUS_OK, Trials, pyll,fmin,tpe\n",
    "import xgboost as xgb\n",
    "\n",
    "\n",
    "\n",
    "\n",
    "\n",
    "import os"
   ]
  },
  {
   "cell_type": "code",
   "execution_count": 2,
   "metadata": {},
   "outputs": [
    {
     "data": {
      "text/plain": [
       "<Experiment: artifact_location='/home/arundac23/mlops-2023-project/experiment_tracking/mlruns/1', creation_time=1690668027362, experiment_id='1', last_update_time=1690668027362, lifecycle_stage='active', name='chicago-taxi-experiment', tags={}>"
      ]
     },
     "execution_count": 2,
     "metadata": {},
     "output_type": "execute_result"
    }
   ],
   "source": [
    "mlflow_experiment_name = \"chicago-taxi-experiment\"\n",
    "mlflow.set_tracking_uri(\"sqlite:///mlflow.db\")\n",
    "mlflow.set_experiment(mlflow_experiment_name)"
   ]
  },
  {
   "cell_type": "code",
   "execution_count": 3,
   "metadata": {},
   "outputs": [],
   "source": [
    "# def create_monthly_data_from_url(url, output_folder, months=[1, 2, 3]):\n",
    "#     # Read the data from the URL into a pandas DataFrame\n",
    "#     df = pd.read_csv(url)\n",
    "\n",
    "#     # Convert the 'Trip Start Timestamp' column to datetime type\n",
    "#     df['Trip Start Timestamp'] = pd.to_datetime(df['Trip Start Timestamp'])\n",
    "\n",
    "#     # Filter the dataset to split the dataset into monthly data\n",
    "#     filtered_df = df[df['Trip Start Timestamp'].dt.month.isin(months)]\n",
    "\n",
    "#     # Create a output directory\n",
    "#     if not os.path.exists(output_folder):\n",
    "#         os.makedirs(output_folder)\n",
    "\n",
    "#     # Group the filtered DataFrame by month and year\n",
    "#     grouped = filtered_df.groupby([filtered_df['Trip Start Timestamp'].dt.year, filtered_df['Trip Start Timestamp'].dt.month])\n",
    "\n",
    "#     # Iterate through each group (month and year)\n",
    "#     for (year, month), group_df in grouped:\n",
    "#         # Create a filename for the monthly CSV file\n",
    "#         filename = f\"{output_folder}/chicago_taxi_data_{year}-{month:02}.csv\"\n",
    "\n",
    "#         # Save the group DataFrame to the CSV file\n",
    "#         group_df.to_csv(filename, index=False)\n"
   ]
  },
  {
   "cell_type": "code",
   "execution_count": 4,
   "metadata": {},
   "outputs": [],
   "source": [
    "# data_url = 'https://data.cityofchicago.org/api/views/e55j-2ewb/rows.csv?accessType=DOWNLOAD'  # Replace with the actual URL link\n",
    "# output_folder = 'data/'\n",
    "# months_to_save = [1, 2, 3]  # January, February, and March\n",
    "# create_monthly_data_from_url(data_url, output_folder, months=months_to_save)"
   ]
  },
  {
   "cell_type": "code",
   "execution_count": 5,
   "metadata": {},
   "outputs": [],
   "source": [
    "import pandas as pd\n",
    "\n",
    "def convert_csv_to_parquet(csv_file_path, parquet_file_path):\n",
    "    try:\n",
    "        df = pd.read_csv(csv_file_path, low_memory=False)\n",
    "        df.columns = df.columns.str.lower().str.replace(' ', '_')\n",
    "        \n",
    "        col_to_rmv_comma = ['trip_seconds', 'fare', 'tolls', 'extras', 'trip_total']\n",
    "        for col in col_to_rmv_comma:\n",
    "            df[col] = df[col].apply(lambda x: str(x).replace(',', ''))\n",
    "\n",
    "        datatypes = {\n",
    "            'trip_seconds': float,\n",
    "            'fare': float,\n",
    "            'pickup_community_area': str,\n",
    "            'dropoff_community_area': str,\n",
    "            'tolls': float,\n",
    "            'extras': float,\n",
    "            'trip_total': float\n",
    "        }\n",
    "        \n",
    "        df = df.astype(datatypes)\n",
    "        df['trip_start_timestamp'] = pd.to_datetime(df['trip_start_timestamp'])\n",
    "        df['trip_end_timestamp'] = pd.to_datetime(df['trip_end_timestamp'])\n",
    "\n",
    "        # Save the DataFrame as a Parquet file\n",
    "        df.to_parquet(parquet_file_path, index=False)\n",
    "\n",
    "        print(f\"CSV file '{csv_file_path}' successfully converted to Parquet: '{parquet_file_path}'\")\n",
    "\n",
    "    except FileNotFoundError:\n",
    "        print(f\"Error: CSV file not found at '{csv_file_path}'.\")\n",
    "\n",
    "    except Exception as e:\n",
    "        print(f\"An error occurred while converting CSV to Parquet: {e}\")\n",
    "\n"
   ]
  },
  {
   "cell_type": "code",
   "execution_count": 6,
   "metadata": {},
   "outputs": [
    {
     "name": "stderr",
     "output_type": "stream",
     "text": [
      "/tmp/ipykernel_22087/3805700532.py:24: UserWarning: Could not infer format, so each element will be parsed individually, falling back to `dateutil`. To ensure parsing is consistent and as-expected, please specify a format.\n",
      "  df['trip_end_timestamp'] = pd.to_datetime(df['trip_end_timestamp'])\n"
     ]
    },
    {
     "name": "stdout",
     "output_type": "stream",
     "text": [
      "CSV file 'data/chicago_taxi_data_2023-01.csv' successfully converted to Parquet: 'data/chicago_taxi_train_dataset_2023-01.parquet'\n"
     ]
    }
   ],
   "source": [
    "# TRAIN DATASET:\n",
    "Train_csv_file_path = 'data/chicago_taxi_data_2023-01.csv'  # Replace with the actual path to your CSV file\n",
    "Train_parquet_file_path = 'data/chicago_taxi_train_dataset_2023-01.parquet'  # Replace with the desired Parquet file path\n",
    "convert_csv_to_parquet(Train_csv_file_path, Train_parquet_file_path)"
   ]
  },
  {
   "cell_type": "code",
   "execution_count": 7,
   "metadata": {},
   "outputs": [
    {
     "name": "stderr",
     "output_type": "stream",
     "text": [
      "/tmp/ipykernel_22087/3805700532.py:24: UserWarning: Could not infer format, so each element will be parsed individually, falling back to `dateutil`. To ensure parsing is consistent and as-expected, please specify a format.\n",
      "  df['trip_end_timestamp'] = pd.to_datetime(df['trip_end_timestamp'])\n"
     ]
    },
    {
     "name": "stdout",
     "output_type": "stream",
     "text": [
      "CSV file 'data/chicago_taxi_data_2023-02.csv' successfully converted to Parquet: 'data/chicago_taxi_Val_dataset_2023-02.parquet'\n"
     ]
    }
   ],
   "source": [
    "# VALIDATION DATASET:\n",
    "Val_csv_file_path = 'data/chicago_taxi_data_2023-02.csv'  \n",
    "Val_parquet_file_path = 'data/chicago_taxi_Val_dataset_2023-02.parquet' \n",
    "convert_csv_to_parquet(Val_csv_file_path, Val_parquet_file_path)"
   ]
  },
  {
   "cell_type": "code",
   "execution_count": 8,
   "metadata": {},
   "outputs": [
    {
     "name": "stderr",
     "output_type": "stream",
     "text": [
      "/tmp/ipykernel_22087/3805700532.py:24: UserWarning: Could not infer format, so each element will be parsed individually, falling back to `dateutil`. To ensure parsing is consistent and as-expected, please specify a format.\n",
      "  df['trip_end_timestamp'] = pd.to_datetime(df['trip_end_timestamp'])\n"
     ]
    },
    {
     "name": "stdout",
     "output_type": "stream",
     "text": [
      "CSV file 'data/chicago_taxi_data_2023-03.csv' successfully converted to Parquet: 'data/chicago_taxi_test_dataset_2023-03.parquet'\n"
     ]
    }
   ],
   "source": [
    "# TEST DATASET:\n",
    "Test_csv_file_path = 'data/chicago_taxi_data_2023-03.csv'  # Replace with the actual path to your CSV file\n",
    "Test_parquet_file_path = 'data/chicago_taxi_test_dataset_2023-03.parquet'  # Replace with the desired Parquet file path\n",
    "convert_csv_to_parquet(Test_csv_file_path, Test_parquet_file_path)"
   ]
  },
  {
   "cell_type": "code",
   "execution_count": 9,
   "metadata": {},
   "outputs": [],
   "source": [
    "df_train_r = pd.read_parquet(Train_parquet_file_path)\n",
    "df_val_r = pd.read_parquet(Val_parquet_file_path)\n",
    "df_test_r = pd.read_parquet(Test_parquet_file_path)"
   ]
  },
  {
   "cell_type": "code",
   "execution_count": 10,
   "metadata": {},
   "outputs": [
    {
     "name": "stdout",
     "output_type": "stream",
     "text": [
      "<class 'pandas.core.frame.DataFrame'>\n",
      "RangeIndex: 414478 entries, 0 to 414477\n",
      "Data columns (total 23 columns):\n",
      " #   Column                      Non-Null Count   Dtype         \n",
      "---  ------                      --------------   -----         \n",
      " 0   trip_id                     414478 non-null  object        \n",
      " 1   taxi_id                     414457 non-null  object        \n",
      " 2   trip_start_timestamp        414478 non-null  datetime64[ns]\n",
      " 3   trip_end_timestamp          414461 non-null  datetime64[ns]\n",
      " 4   trip_seconds                414378 non-null  float64       \n",
      " 5   trip_miles                  414478 non-null  float64       \n",
      " 6   pickup_census_tract         136206 non-null  float64       \n",
      " 7   dropoff_census_tract        135485 non-null  float64       \n",
      " 8   pickup_community_area       414478 non-null  object        \n",
      " 9   dropoff_community_area      414478 non-null  object        \n",
      " 10  fare                        414073 non-null  float64       \n",
      " 11  tips                        414073 non-null  float64       \n",
      " 12  tolls                       414073 non-null  float64       \n",
      " 13  extras                      414073 non-null  float64       \n",
      " 14  trip_total                  414073 non-null  float64       \n",
      " 15  payment_type                414478 non-null  object        \n",
      " 16  company                     414478 non-null  object        \n",
      " 17  pickup_centroid_latitude    388885 non-null  float64       \n",
      " 18  pickup_centroid_longitude   388885 non-null  float64       \n",
      " 19  pickup_centroid_location    388885 non-null  object        \n",
      " 20  dropoff_centroid_latitude   376020 non-null  float64       \n",
      " 21  dropoff_centroid_longitude  376020 non-null  float64       \n",
      " 22  dropoff_centroid__location  376020 non-null  object        \n",
      "dtypes: datetime64[ns](2), float64(13), object(8)\n",
      "memory usage: 72.7+ MB\n"
     ]
    }
   ],
   "source": [
    "df_train_r.info()"
   ]
  },
  {
   "cell_type": "code",
   "execution_count": 11,
   "metadata": {},
   "outputs": [],
   "source": [
    "def analyse_dataframe(df: pd.DataFrame, target:str =None, verbose=False):\n",
    "    \n",
    "    print(f'Analysing dataset...')\n",
    "    print(f'Dataset shape: {df.shape}')\n",
    "    print(f'Dataset info:\\n{df.info()}')\n",
    "    \n",
    "    df.head().T\n",
    "    \n",
    "    categorical_columns = list(df.dtypes[df.dtypes == 'object'].index)\n",
    "    numerical_columns = list(df.dtypes[df.dtypes != 'object'].index)\n",
    "    \n",
    "    for column in df.columns:\n",
    "        print('\\nColumn Name:' + column)\n",
    "        if column in categorical_columns:\n",
    "            print('Itz a categorical type')\n",
    "        else:\n",
    "            print('Itz a numerical type')\n",
    "        nuniques = df[column].nunique()\n",
    "        if nuniques < 50:\n",
    "            print(column, df[column].unique())\n",
    "        else:\n",
    "            print(f'Number of uniques values is {nuniques}')\n",
    "        \n",
    "        print(f'Number of nulls: {df[column].isnull().sum()}')\n",
    "    \n",
    "    sns.displot(df[target])\n",
    "    \n",
    "    print(f'\\ndescription of target variable {target}:')\n",
    "    print(df[target].describe(percentiles=[0.01, 0.05, 0.1, 0.2, 0.75, 0.95, 0.98, 0.99]))\n",
    "    print(f'% of trips within 1-60 min: {((df[target] >= 60) & (df[target]<=60*60)).mean()}')\n",
    "    \n",
    "    return numerical_columns, categorical_columns"
   ]
  },
  {
   "cell_type": "code",
   "execution_count": 12,
   "metadata": {},
   "outputs": [
    {
     "name": "stdout",
     "output_type": "stream",
     "text": [
      "Analysing dataset...\n",
      "Dataset shape: (414478, 23)\n",
      "<class 'pandas.core.frame.DataFrame'>\n",
      "RangeIndex: 414478 entries, 0 to 414477\n",
      "Data columns (total 23 columns):\n",
      " #   Column                      Non-Null Count   Dtype         \n",
      "---  ------                      --------------   -----         \n",
      " 0   trip_id                     414478 non-null  object        \n",
      " 1   taxi_id                     414457 non-null  object        \n",
      " 2   trip_start_timestamp        414478 non-null  datetime64[ns]\n",
      " 3   trip_end_timestamp          414461 non-null  datetime64[ns]\n",
      " 4   trip_seconds                414378 non-null  float64       \n",
      " 5   trip_miles                  414478 non-null  float64       \n",
      " 6   pickup_census_tract         136206 non-null  float64       \n",
      " 7   dropoff_census_tract        135485 non-null  float64       \n",
      " 8   pickup_community_area       414478 non-null  object        \n",
      " 9   dropoff_community_area      414478 non-null  object        \n",
      " 10  fare                        414073 non-null  float64       \n",
      " 11  tips                        414073 non-null  float64       \n",
      " 12  tolls                       414073 non-null  float64       \n",
      " 13  extras                      414073 non-null  float64       \n",
      " 14  trip_total                  414073 non-null  float64       \n",
      " 15  payment_type                414478 non-null  object        \n",
      " 16  company                     414478 non-null  object        \n",
      " 17  pickup_centroid_latitude    388885 non-null  float64       \n",
      " 18  pickup_centroid_longitude   388885 non-null  float64       \n",
      " 19  pickup_centroid_location    388885 non-null  object        \n",
      " 20  dropoff_centroid_latitude   376020 non-null  float64       \n",
      " 21  dropoff_centroid_longitude  376020 non-null  float64       \n",
      " 22  dropoff_centroid__location  376020 non-null  object        \n",
      "dtypes: datetime64[ns](2), float64(13), object(8)\n",
      "memory usage: 72.7+ MB\n",
      "Dataset info:\n",
      "None\n",
      "\n",
      "Column Name:trip_id\n",
      "Itz a categorical type\n",
      "Number of uniques values is 414478\n",
      "Number of nulls: 0\n",
      "\n",
      "Column Name:taxi_id\n",
      "Itz a categorical type\n",
      "Number of uniques values is 2314\n",
      "Number of nulls: 21\n",
      "\n",
      "Column Name:trip_start_timestamp\n",
      "Itz a numerical type\n",
      "Number of uniques values is 2976\n",
      "Number of nulls: 0\n",
      "\n",
      "Column Name:trip_end_timestamp\n",
      "Itz a numerical type\n",
      "Number of uniques values is 2996\n",
      "Number of nulls: 17\n",
      "\n",
      "Column Name:trip_seconds\n",
      "Itz a numerical type\n",
      "Number of uniques values is 6093\n",
      "Number of nulls: 100\n",
      "\n",
      "Column Name:trip_miles\n",
      "Itz a numerical type\n",
      "Number of uniques values is 4117\n",
      "Number of nulls: 0\n",
      "\n",
      "Column Name:pickup_census_tract\n",
      "Itz a numerical type\n",
      "Number of uniques values is 236\n",
      "Number of nulls: 278272\n",
      "\n",
      "Column Name:dropoff_census_tract\n",
      "Itz a numerical type\n",
      "Number of uniques values is 336\n",
      "Number of nulls: 278993\n",
      "\n",
      "Column Name:pickup_community_area\n",
      "Itz a categorical type\n",
      "Number of uniques values is 78\n",
      "Number of nulls: 0\n",
      "\n",
      "Column Name:dropoff_community_area\n",
      "Itz a categorical type\n",
      "Number of uniques values is 78\n",
      "Number of nulls: 0\n",
      "\n",
      "Column Name:fare\n",
      "Itz a numerical type\n",
      "Number of uniques values is 4212\n",
      "Number of nulls: 405\n",
      "\n",
      "Column Name:tips\n",
      "Itz a numerical type\n",
      "Number of uniques values is 2082\n",
      "Number of nulls: 405\n",
      "\n",
      "Column Name:tolls\n",
      "Itz a numerical type\n",
      "Number of uniques values is 97\n",
      "Number of nulls: 405\n",
      "\n",
      "Column Name:extras\n",
      "Itz a numerical type\n",
      "Number of uniques values is 516\n",
      "Number of nulls: 405\n",
      "\n",
      "Column Name:trip_total\n",
      "Itz a numerical type\n",
      "Number of uniques values is 7099\n",
      "Number of nulls: 405\n",
      "\n",
      "Column Name:payment_type\n",
      "Itz a categorical type\n",
      "payment_type ['Credit Card' 'Mobile' 'Cash' 'Prcard' 'Unknown' 'Dispute' 'No Charge']\n",
      "Number of nulls: 0\n",
      "\n",
      "Column Name:company\n",
      "Itz a categorical type\n",
      "company ['Taxicab Insurance Agency Llc' 'Sun Taxi' '5 Star Taxi' 'Flash Cab'\n",
      " 'Top Cab Affiliation' 'Globe Taxi' 'Taxi Affiliation Services'\n",
      " 'Patriot Taxi Dba Peace Taxi Associat' 'Medallion Leasin'\n",
      " 'Star North Taxi Management Llc' 'City Service'\n",
      " 'Blue Ribbon Taxi Association' 'Chicago Independents' 'U Taxicab'\n",
      " 'Choice Taxi Association' 'Taxicab Insurance Agency, LLC' 'Setare Inc'\n",
      " '312 Medallion Management Corp' 'Chicago Taxicab' 'Koam Taxi Association'\n",
      " 'Top Cab' '6574 - Babylon Express Inc.' '4053 - 40193 Adwar H. Nikola'\n",
      " '3556 - 36214 RC Andrews Cab' 'Metro Jet Taxi A.' 'Leonard Cab Co'\n",
      " 'Petani Cab Corp' '2733 - 74600 Benny Jona' '4787 - 56058 Reny Cab Co'\n",
      " '5062 - 34841 Sam Mestas' 'Taxi Affiliation Services Llc - Yell'\n",
      " '4623 - 27290 Jay Kim']\n",
      "Number of nulls: 0\n",
      "\n",
      "Column Name:pickup_centroid_latitude\n",
      "Itz a numerical type\n",
      "Number of uniques values is 300\n",
      "Number of nulls: 25593\n",
      "\n",
      "Column Name:pickup_centroid_longitude\n",
      "Itz a numerical type\n",
      "Number of uniques values is 300\n",
      "Number of nulls: 25593\n",
      "\n",
      "Column Name:pickup_centroid_location\n",
      "Itz a categorical type\n",
      "Number of uniques values is 300\n",
      "Number of nulls: 25593\n",
      "\n",
      "Column Name:dropoff_centroid_latitude\n",
      "Itz a numerical type\n",
      "Number of uniques values is 370\n",
      "Number of nulls: 38458\n",
      "\n",
      "Column Name:dropoff_centroid_longitude\n",
      "Itz a numerical type\n",
      "Number of uniques values is 370\n",
      "Number of nulls: 38458\n",
      "\n",
      "Column Name:dropoff_centroid__location\n",
      "Itz a categorical type\n",
      "Number of uniques values is 370\n",
      "Number of nulls: 38458\n"
     ]
    },
    {
     "name": "stderr",
     "output_type": "stream",
     "text": [
      "/home/arundac23/enter/envs/mlops-project-2023/lib/python3.9/site-packages/seaborn/axisgrid.py:118: UserWarning: The figure layout has changed to tight\n",
      "  self._figure.tight_layout(*args, **kwargs)\n"
     ]
    },
    {
     "name": "stdout",
     "output_type": "stream",
     "text": [
      "\n",
      "description of target variable trip_seconds:\n",
      "count    414378.000000\n",
      "mean       1099.599006\n",
      "std        1791.298925\n",
      "min           0.000000\n",
      "1%            0.000000\n",
      "5%           60.000000\n",
      "10%         232.000000\n",
      "20%         360.000000\n",
      "50%         832.000000\n",
      "75%        1500.000000\n",
      "95%        2601.000000\n",
      "98%        3240.000000\n",
      "99%        3838.000000\n",
      "max       86340.000000\n",
      "Name: trip_seconds, dtype: float64\n",
      "% of trips within 1-60 min: 0.9403345895318931\n"
     ]
    },
    {
     "data": {
      "image/png": "[encoded data removed]",
      "text/plain": [
       "<Figure size 500x500 with 1 Axes>"
      ]
     },
     "metadata": {},
     "output_type": "display_data"
    }
   ],
   "source": [
    "numerical_columns, categorical_columns = analyse_dataframe(df_train_r, target='trip_seconds')"
   ]
  },
  {
   "cell_type": "code",
   "execution_count": 13,
   "metadata": {},
   "outputs": [],
   "source": [
    "import pandas as pd\n",
    "from typing import List\n",
    "\n",
    "def preprocess_data(df: pd.DataFrame, categorical_features: List[str], numerical_features: List[str], verbose: bool = False):\n",
    "\n",
    "    df = df[df.trip_seconds.notnull()]\n",
    "    df = df[df.trip_start_timestamp.notnull()]\n",
    "    \n",
    "    df = df[(df['trip_seconds'] > 60) & (df['trip_seconds'] < 3600)]\n",
    "\n",
    "    # Create the 'duration' column in minutes as the target variable\n",
    "    df['duration'] = df['trip_seconds'] / 60\n",
    "\n",
    "    # Preprocess categorical features\n",
    "    for column in categorical_features:\n",
    "        if verbose:\n",
    "            print(f\"\\nFilling {round(df[column].isna().mean() * 100, 2)}% of nans with -1 in column: {column}\")\n",
    "        df[column].fillna(-1, inplace=True)\n",
    "        df[column] = df[column].astype('str')\n",
    "        df[column] = df[column].str.lower().str.replace(' ', '_')\n",
    "\n",
    "    # Select only the relevant columns\n",
    "    target = ['duration']\n",
    "    selected_columns = categorical_features + numerical_features + target\n",
    "    df = df[selected_columns]\n",
    "\n",
    "    if verbose:\n",
    "        print(f\"\\nfinal shape: {df.shape}\")\n",
    "        print(f\"\\nfinal types:\\n{df.dtypes}\")\n",
    "        print(f\"\\ncategorical_features: {categorical_features}\")\n",
    "        print(f\"\\nnumerical_features: {numerical_features}\")\n",
    "        print(f\"\\ntarget: {target}\")\n",
    "\n",
    "    return df[categorical_features + numerical_features], df[target]\n"
   ]
  },
  {
   "cell_type": "code",
   "execution_count": 14,
   "metadata": {},
   "outputs": [
    {
     "name": "stdout",
     "output_type": "stream",
     "text": [
      "\n",
      "Filling 0.0% of nans with -1 in column: pickup_community_area\n",
      "\n",
      "Filling 0.0% of nans with -1 in column: dropoff_community_area\n",
      "\n",
      "final shape: (542815, 3)\n",
      "\n",
      "final types:\n",
      "pickup_community_area      object\n",
      "dropoff_community_area     object\n",
      "duration                  float64\n",
      "dtype: object\n",
      "\n",
      "categorical_features: ['pickup_community_area', 'dropoff_community_area']\n",
      "\n",
      "numerical_features: []\n",
      "\n",
      "target: ['duration']\n"
     ]
    }
   ],
   "source": [
    "df_test, y_test = preprocess_data(\n",
    "    df_test_r,\n",
    "    categorical_features=['pickup_community_area','dropoff_community_area'],\n",
    "    numerical_features=[],\n",
    "    verbose=True\n",
    ")"
   ]
  },
  {
   "cell_type": "code",
   "execution_count": 15,
   "metadata": {},
   "outputs": [
    {
     "name": "stdout",
     "output_type": "stream",
     "text": [
      "\n",
      "Filling 0.0% of nans with -1 in column: pickup_community_area\n",
      "\n",
      "Filling 0.0% of nans with -1 in column: dropoff_community_area\n",
      "\n",
      "final shape: (417382, 3)\n",
      "\n",
      "final types:\n",
      "pickup_community_area      object\n",
      "dropoff_community_area     object\n",
      "duration                  float64\n",
      "dtype: object\n",
      "\n",
      "categorical_features: ['pickup_community_area', 'dropoff_community_area']\n",
      "\n",
      "numerical_features: []\n",
      "\n",
      "target: ['duration']\n"
     ]
    }
   ],
   "source": [
    "df_val, y_val = preprocess_data(\n",
    "    df_val_r,\n",
    "    categorical_features=['pickup_community_area','dropoff_community_area'],\n",
    "    numerical_features=[],\n",
    "    verbose=True\n",
    ")"
   ]
  },
  {
   "cell_type": "code",
   "execution_count": 16,
   "metadata": {},
   "outputs": [
    {
     "name": "stdout",
     "output_type": "stream",
     "text": [
      "\n",
      "Filling 0.0% of nans with -1 in column: pickup_community_area\n",
      "\n",
      "Filling 0.0% of nans with -1 in column: dropoff_community_area\n",
      "\n",
      "final shape: (387579, 3)\n",
      "\n",
      "final types:\n",
      "pickup_community_area      object\n",
      "dropoff_community_area     object\n",
      "duration                  float64\n",
      "dtype: object\n",
      "\n",
      "categorical_features: ['pickup_community_area', 'dropoff_community_area']\n",
      "\n",
      "numerical_features: []\n",
      "\n",
      "target: ['duration']\n"
     ]
    }
   ],
   "source": [
    "df_train, y_train = preprocess_data(\n",
    "    df_train_r,\n",
    "    categorical_features=['pickup_community_area','dropoff_community_area'],\n",
    "    numerical_features=[],\n",
    "    verbose=True\n",
    ")"
   ]
  },
  {
   "cell_type": "code",
   "execution_count": 17,
   "metadata": {},
   "outputs": [],
   "source": [
    "def prepare_dictionaries(df:pd.DataFrame, categorical_features:List[str], numerical_features:List[str]):\n",
    "    dicts = df[categorical_features + numerical_features].to_dict(orient='records')\n",
    "    return dicts"
   ]
  },
  {
   "cell_type": "code",
   "execution_count": 18,
   "metadata": {},
   "outputs": [],
   "source": [
    "train_dict = prepare_dictionaries(\n",
    "    df_train,\n",
    "    categorical_features=['pickup_community_area','dropoff_community_area'],\n",
    "    numerical_features=[]\n",
    ")\n",
    "val_dict = prepare_dictionaries(\n",
    "    df_val,\n",
    "    categorical_features=['pickup_community_area','dropoff_community_area'],\n",
    "    numerical_features=[]\n",
    ")\n",
    "test_dict = prepare_dictionaries(\n",
    "    df_test,\n",
    "    categorical_features=['pickup_community_area','dropoff_community_area'],\n",
    "    numerical_features=[]\n",
    ")"
   ]
  },
  {
   "cell_type": "code",
   "execution_count": 19,
   "metadata": {},
   "outputs": [],
   "source": [
    "y_train = y_train.values\n",
    "y_val = y_val.values\n",
    "y_test = y_test.values"
   ]
  },
  {
   "cell_type": "code",
   "execution_count": 20,
   "metadata": {},
   "outputs": [],
   "source": [
    "dv = DictVectorizer()\n",
    "X_train = dv.fit_transform(train_dict)\n",
    "X_val = dv.transform(val_dict)\n",
    "X_test = dv.transform(test_dict)"
   ]
  },
  {
   "cell_type": "code",
   "execution_count": 21,
   "metadata": {},
   "outputs": [
    {
     "name": "stdout",
     "output_type": "stream",
     "text": [
      "Train RMSE: 9.591189039817566\n"
     ]
    }
   ],
   "source": [
    "lr = LinearRegression()\n",
    "lr.fit(X_train, y_train)\n",
    "\n",
    "y_pred = lr.predict(X_train)\n",
    "\n",
    "print(f'Train RMSE: {mean_squared_error(y_train, y_pred, squared=False)}')"
   ]
  },
  {
   "cell_type": "code",
   "execution_count": 22,
   "metadata": {},
   "outputs": [
    {
     "data": {
      "image/png": "[encoded data removed]",
      "text/plain": [
       "<Figure size 640x480 with 1 Axes>"
      ]
     },
     "metadata": {},
     "output_type": "display_data"
    }
   ],
   "source": [
    "sns.histplot(y_pred, color='red',label='prediction')\n",
    "sns.histplot(y_train, color='green',label='actual')\n",
    "\n",
    "plt.legend();"
   ]
  },
  {
   "cell_type": "markdown",
   "metadata": {},
   "source": [
    " ### Evaluating the model"
   ]
  },
  {
   "cell_type": "code",
   "execution_count": 23,
   "metadata": {},
   "outputs": [],
   "source": [
    "y_pred = lr.predict(X_val)"
   ]
  },
  {
   "cell_type": "code",
   "execution_count": 24,
   "metadata": {},
   "outputs": [
    {
     "name": "stdout",
     "output_type": "stream",
     "text": [
      "Val RMSE: 9.810990354874242\n"
     ]
    }
   ],
   "source": [
    "print(f'Val RMSE: {mean_squared_error(y_val, y_pred, squared=False)}')"
   ]
  },
  {
   "cell_type": "code",
   "execution_count": 25,
   "metadata": {},
   "outputs": [
    {
     "data": {
      "image/png": "[encoded data removed]",
      "text/plain": [
       "<Figure size 640x480 with 1 Axes>"
      ]
     },
     "metadata": {},
     "output_type": "display_data"
    }
   ],
   "source": [
    "sns.histplot(y_pred, label='prediction')\n",
    "sns.histplot(y_val, label='actual')\n",
    "\n",
    "plt.legend();"
   ]
  },
  {
   "cell_type": "code",
   "execution_count": 26,
   "metadata": {},
   "outputs": [],
   "source": [
    "# with open('models/lin_reg.bin', 'wb') as f_out:\n",
    "#     pickle.dump((dv, lr), f_out)"
   ]
  },
  {
   "cell_type": "code",
   "execution_count": 27,
   "metadata": {},
   "outputs": [],
   "source": [
    "# with mlflow.start_run():\n",
    "#     mlflow.set_tag('developer', 'Arun')\n",
    "#     mlflow.set_tag('project', 'chicago taxi prediction')\n",
    "#     mlflow.log_param('train-data_path', Train_parquet_file_path)\n",
    "#     mlflow.log_param('Validation-data_path', Val_parquet_file_path)\n",
    "\n",
    "#     alpha = 0.001\n",
    "#     mlflow.log_param('alpha', alpha)\n",
    "#     las = Lasso(alpha)\n",
    "#     las.fit(X_train, y_train)\n",
    "\n",
    "#     y_pred = las.predict(X_val)\n",
    "    \n",
    "#     rmse_las = mean_squared_error(y_val, y_pred, squared=False)\n",
    "\n",
    "#     print(f'Val RMSE of lasso model: {rmse_las}')\n",
    "#     mlflow.log_metric('Val RMSE of lasso model', rmse_las)\n",
    "#     mlflow.log_artifact(local_path='models/lasso_model.bin')"
   ]
  },
  {
   "cell_type": "code",
   "execution_count": 28,
   "metadata": {},
   "outputs": [],
   "source": [
    "# with open('models/lasso_model.bin', 'wb') as f_out:\n",
    "#     pickle.dump((dv, las),f_out)"
   ]
  },
  {
   "cell_type": "code",
   "execution_count": 29,
   "metadata": {},
   "outputs": [
    {
     "name": "stderr",
     "output_type": "stream",
     "text": [
      "2023/08/10 19:48:33 WARNING mlflow.sklearn: Model was missing function: predict. Not logging python_function flavor!\n"
     ]
    },
    {
     "name": "stdout",
     "output_type": "stream",
     "text": [
      "Best LinearRegression Hyperparameters: {}\n",
      "Best LinearRegression RMSE: 9.810990354874242\n",
      "Best LinearRegression RMSE on test data: 10.51833160070743\n"
     ]
    },
    {
     "name": "stderr",
     "output_type": "stream",
     "text": [
      "2023/08/10 19:48:37 WARNING mlflow.sklearn: Model was missing function: predict. Not logging python_function flavor!\n",
      "/home/arundac23/enter/envs/mlops-project-2023/lib/python3.9/site-packages/_distutils_hack/__init__.py:18: UserWarning: Distutils was imported before Setuptools, but importing Setuptools also replaces the `distutils` module in `sys.modules`. This may lead to undesirable behaviors or errors. To avoid these issues, avoid using distutils directly, ensure that setuptools is installed in the traditional way (e.g. not an editable install), and/or make sure that setuptools is always imported before distutils.\n",
      "  warnings.warn(\n",
      "/home/arundac23/enter/envs/mlops-project-2023/lib/python3.9/site-packages/_distutils_hack/__init__.py:33: UserWarning: Setuptools is replacing distutils.\n",
      "  warnings.warn(\"Setuptools is replacing distutils.\")\n"
     ]
    },
    {
     "name": "stdout",
     "output_type": "stream",
     "text": [
      "Best Lasso Hyperparameters: {'alpha': 0.0892614913758354}\n",
      "Best Lasso RMSE: 10.20308432341211\n",
      "Best Lasso RMSE on test data: 10.925903745146648\n"
     ]
    },
    {
     "name": "stderr",
     "output_type": "stream",
     "text": [
      "2023/08/10 19:48:38 WARNING mlflow.sklearn: Model was missing function: predict. Not logging python_function flavor!\n",
      "/home/arundac23/enter/envs/mlops-project-2023/lib/python3.9/site-packages/_distutils_hack/__init__.py:18: UserWarning: Distutils was imported before Setuptools, but importing Setuptools also replaces the `distutils` module in `sys.modules`. This may lead to undesirable behaviors or errors. To avoid these issues, avoid using distutils directly, ensure that setuptools is installed in the traditional way (e.g. not an editable install), and/or make sure that setuptools is always imported before distutils.\n",
      "  warnings.warn(\n",
      "/home/arundac23/enter/envs/mlops-project-2023/lib/python3.9/site-packages/_distutils_hack/__init__.py:33: UserWarning: Setuptools is replacing distutils.\n",
      "  warnings.warn(\"Setuptools is replacing distutils.\")\n",
      "/home/arundac23/enter/envs/mlops-project-2023/lib/python3.9/site-packages/sklearn/base.py:1151: DataConversionWarning: A column-vector y was passed when a 1d array was expected. Please change the shape of y to (n_samples,), for example using ravel().\n",
      "  return fit_method(estimator, *args, **kwargs)\n"
     ]
    },
    {
     "name": "stdout",
     "output_type": "stream",
     "text": [
      "Best Ridge Hyperparameters: {'alpha': 0.40839218023764756}\n",
      "Best Ridge RMSE: 9.810967665093086\n",
      "Best Ridge RMSE on test data: 10.518324371337725\n"
     ]
    },
    {
     "name": "stderr",
     "output_type": "stream",
     "text": [
      "2023/08/10 19:51:35 WARNING mlflow.sklearn: Model was missing function: predict. Not logging python_function flavor!\n",
      "/home/arundac23/enter/envs/mlops-project-2023/lib/python3.9/site-packages/_distutils_hack/__init__.py:18: UserWarning: Distutils was imported before Setuptools, but importing Setuptools also replaces the `distutils` module in `sys.modules`. This may lead to undesirable behaviors or errors. To avoid these issues, avoid using distutils directly, ensure that setuptools is installed in the traditional way (e.g. not an editable install), and/or make sure that setuptools is always imported before distutils.\n",
      "  warnings.warn(\n",
      "/home/arundac23/enter/envs/mlops-project-2023/lib/python3.9/site-packages/_distutils_hack/__init__.py:33: UserWarning: Setuptools is replacing distutils.\n",
      "  warnings.warn(\"Setuptools is replacing distutils.\")\n",
      "/home/arundac23/enter/envs/mlops-project-2023/lib/python3.9/site-packages/sklearn/ensemble/_gb.py:424: DataConversionWarning: A column-vector y was passed when a 1d array was expected. Please change the shape of y to (n_samples, ), for example using ravel().\n",
      "  y = column_or_1d(y, warn=True)\n"
     ]
    },
    {
     "name": "stdout",
     "output_type": "stream",
     "text": [
      "Best RandomForest Hyperparameters: {'n_estimators': 100, 'max_depth': 10, 'min_samples_split': 10, 'min_samples_leaf': 4}\n",
      "Best RandomForest RMSE: 8.11854983176106\n",
      "Best RandomForest RMSE on test data: 8.658390359289022\n"
     ]
    },
    {
     "name": "stderr",
     "output_type": "stream",
     "text": [
      "2023/08/10 19:52:19 WARNING mlflow.sklearn: Model was missing function: predict. Not logging python_function flavor!\n",
      "/home/arundac23/enter/envs/mlops-project-2023/lib/python3.9/site-packages/_distutils_hack/__init__.py:18: UserWarning: Distutils was imported before Setuptools, but importing Setuptools also replaces the `distutils` module in `sys.modules`. This may lead to undesirable behaviors or errors. To avoid these issues, avoid using distutils directly, ensure that setuptools is installed in the traditional way (e.g. not an editable install), and/or make sure that setuptools is always imported before distutils.\n",
      "  warnings.warn(\n",
      "/home/arundac23/enter/envs/mlops-project-2023/lib/python3.9/site-packages/_distutils_hack/__init__.py:33: UserWarning: Setuptools is replacing distutils.\n",
      "  warnings.warn(\"Setuptools is replacing distutils.\")\n",
      "/home/arundac23/enter/envs/mlops-project-2023/lib/python3.9/site-packages/sklearn/base.py:1151: DataConversionWarning: A column-vector y was passed when a 1d array was expected. Please change the shape of y to (n_samples,), for example using ravel().\n",
      "  return fit_method(estimator, *args, **kwargs)\n"
     ]
    },
    {
     "name": "stdout",
     "output_type": "stream",
     "text": [
      "Best GradientBoosting Hyperparameters: {'n_estimators': 150, 'learning_rate': 0.01, 'max_depth': 7, 'subsample': 1.0}\n",
      "Best GradientBoosting RMSE: 9.304180936291587\n",
      "Best GradientBoosting RMSE on test data: 9.882112107585105\n"
     ]
    },
    {
     "name": "stderr",
     "output_type": "stream",
     "text": [
      "2023/08/10 19:54:58 WARNING mlflow.sklearn: Model was missing function: predict. Not logging python_function flavor!\n"
     ]
    },
    {
     "name": "stdout",
     "output_type": "stream",
     "text": [
      "Best ExtraTrees Hyperparameters: {'n_estimators': 250, 'max_depth': None, 'min_samples_split': 2, 'min_samples_leaf': 8}\n",
      "Best ExtraTrees RMSE: 8.127108005447115\n",
      "Best ExtraTrees RMSE on test data: 8.666156803119927\n"
     ]
    },
    {
     "name": "stderr",
     "output_type": "stream",
     "text": [
      "/home/arundac23/enter/envs/mlops-project-2023/lib/python3.9/site-packages/_distutils_hack/__init__.py:18: UserWarning: Distutils was imported before Setuptools, but importing Setuptools also replaces the `distutils` module in `sys.modules`. This may lead to undesirable behaviors or errors. To avoid these issues, avoid using distutils directly, ensure that setuptools is installed in the traditional way (e.g. not an editable install), and/or make sure that setuptools is always imported before distutils.\n",
      "  warnings.warn(\n",
      "/home/arundac23/enter/envs/mlops-project-2023/lib/python3.9/site-packages/_distutils_hack/__init__.py:33: UserWarning: Setuptools is replacing distutils.\n",
      "  warnings.warn(\"Setuptools is replacing distutils.\")\n"
     ]
    }
   ],
   "source": [
    "linear_space = {}\n",
    "\n",
    "lasso_space = {\n",
    "    'alpha': hp.loguniform('alpha', -6, 2)\n",
    "}\n",
    "\n",
    "ridge_space = {\n",
    "    'alpha': hp.loguniform('alpha', -6, 3)\n",
    "}\n",
    "\n",
    "rf_space = {\n",
    "    'n_estimators': hp.choice('n_estimators', [50, 100, 150]),\n",
    "    'max_depth': hp.choice('max_depth', [None, 10, 20]),\n",
    "    'min_samples_split': hp.choice('min_samples_split', [2, 5, 10]),\n",
    "    'min_samples_leaf': hp.choice('min_samples_leaf', [1, 2, 4])\n",
    "}\n",
    "\n",
    "gb_space = {\n",
    "    'n_estimators': hp.choice('n_estimators', [50, 100, 150]),\n",
    "    'learning_rate': hp.choice('learning_rate', [0.01, 0.1, 0.2]),\n",
    "    'max_depth': hp.choice('max_depth', [3, 5, 7]),\n",
    "    'subsample': hp.choice('subsample', [0.6, 0.8, 1.0])\n",
    "}\n",
    "\n",
    "et_space = {\n",
    "    'n_estimators': hp.choice('n_estimators', [50, 100, 150, 200, 250]),\n",
    "    'max_depth': hp.choice('max_depth', [None, 5, 10, 15, 20]),\n",
    "    'min_samples_split': hp.choice('min_samples_split', [2, 5, 10, 20]),\n",
    "    'min_samples_leaf': hp.choice('min_samples_leaf', [1, 2, 4, 8])\n",
    "}\n",
    "\n",
    "\n",
    "def train_evaluate(params, model_name):\n",
    "    if model_name == 'LinearRegression':\n",
    "        model = LinearRegression()\n",
    "    elif model_name == 'Lasso':\n",
    "        model = Lasso(**params)\n",
    "    elif model_name == 'Ridge':\n",
    "        model = Ridge(**params)\n",
    "    elif model_name == 'RandomForest':\n",
    "        model = RandomForestRegressor(random_state=42)\n",
    "    elif model_name == 'GradientBoosting':\n",
    "        model = GradientBoostingRegressor(**params, random_state=42)\n",
    "    elif model_name == 'ExtraTrees':\n",
    "        model = ExtraTreesRegressor(random_state=42)\n",
    "    else:\n",
    "        raise ValueError(f\"Unknown model: {model_name}\")\n",
    "\n",
    "    model.fit(X_train, y_train)\n",
    "    y_pred = model.predict(X_val)\n",
    "    rmse = mean_squared_error(y_val, y_pred, squared=False)\n",
    "    rmse_test = mean_squared_error(y_test, model.predict(X_test), squared=False)\n",
    "    return {'loss': rmse, 'status': STATUS_OK, 'rmse_test': rmse_test}\n",
    "\n",
    "models = [\n",
    "    ('LinearRegression', linear_space),\n",
    "    ('Lasso', lasso_space),\n",
    "    ('Ridge', ridge_space),\n",
    "    ('RandomForest', rf_space),\n",
    "    ('GradientBoosting', gb_space),\n",
    "    ('ExtraTrees', et_space)\n",
    "]\n",
    "\n",
    "for model, space in models:\n",
    "    with mlflow.start_run(run_name=model):\n",
    "        trials = Trials()\n",
    "        hyperopt_space = pyll.as_apply(space)\n",
    "        best_params = pyll.stochastic.sample(hyperopt_space)\n",
    "        \n",
    "        # Get the best model with the best hyperparameters\n",
    "        best_model_params = {k: best_params[k] for k in space}\n",
    "        mlflow.log_params(best_model_params)\n",
    "        \n",
    "        # Log additional metrics and tags\n",
    "        best_model = train_evaluate(best_model_params, model)\n",
    "        mlflow.set_tag('developer', 'Arun')\n",
    "        mlflow.set_tag('project', 'chicago taxi prediction')\n",
    "        mlflow.log_param('train-data_path', Train_parquet_file_path)\n",
    "        mlflow.log_param('Validation-data_path', Val_parquet_file_path)\n",
    "        mlflow.log_metric('val_rmse', best_model['loss'])\n",
    "        mlflow.log_metric('test_rmse', best_model['rmse_test'])\n",
    "        mlflow.set_tag(\"model_name\", model)\n",
    "        with open('models/preprocessor.b','wb') as f_out:\n",
    "            pickle.dump(dv,f_out)\n",
    "        mlflow.log_artifact('models/preprocessor.b',artifact_path='preprocessor')\n",
    "        mlflow.sklearn.log_model(model, artifact_path=\"models\")\n",
    "\n",
    "        print(f'Best {model} Hyperparameters: {best_model_params}')\n",
    "        print(f'Best {model} RMSE: {best_model[\"loss\"]}')\n",
    "        print(f'Best {model} RMSE on test data: {best_model[\"rmse_test\"]}')\n"
   ]
  },
  {
   "cell_type": "code",
   "execution_count": 30,
   "metadata": {},
   "outputs": [],
   "source": [
    "from hyperopt.pyll import scope\n",
    "train = xgb.DMatrix(X_train, label=y_train)\n",
    "valid = xgb.DMatrix(X_val, label=y_val)\n",
    "test = xgb.DMatrix(X_test)\n",
    "\n",
    "def objective(params):\n",
    "    with mlflow.start_run():\n",
    "        mlflow.set_tag(\"model\", \"xgboost\")\n",
    "        mlflow.log_params(params)\n",
    "        booster = xgb.train(\n",
    "            params=params,\n",
    "            dtrain=train,\n",
    "            num_boost_round=1000,\n",
    "            evals=[(valid, 'validation')],\n",
    "            early_stopping_rounds=50\n",
    "        )\n",
    "        y_pred = booster.predict(valid)\n",
    "        rmse = mean_squared_error(y_val, y_pred, squared=False)\n",
    "        mlflow.log_metric(\"val_rmse\", rmse)\n",
    "\n",
    "    return {'loss': rmse, 'status': STATUS_OK}"
   ]
  },
  {
   "cell_type": "code",
   "execution_count": 31,
   "metadata": {},
   "outputs": [],
   "source": [
    "# search_space = {\n",
    "#     'max_depth': scope.int(hp.quniform('max_depth', 4, 100, 1)),\n",
    "#     'learning_rate': hp.loguniform('learning_rate', -3, 0),\n",
    "#     'reg_alpha': hp.loguniform('reg_alpha', -5, -1),\n",
    "#     'reg_lambda': hp.loguniform('reg_lambda', -6, -1),\n",
    "#     'min_child_weight': hp.loguniform('min_child_weight', -1, 3),\n",
    "#     'objective': 'reg:linear',\n",
    "#     'seed': 42\n",
    "# }\n",
    "\n",
    "# best_result = fmin(\n",
    "#     fn=objective,\n",
    "#     space=search_space,\n",
    "#     algo=tpe.suggest,\n",
    "#     max_evals=5,\n",
    "#     trials=Trials()\n",
    "# )"
   ]
  },
  {
   "cell_type": "code",
   "execution_count": 32,
   "metadata": {},
   "outputs": [],
   "source": [
    "mlflow.xgboost.autolog(disable=True)"
   ]
  },
  {
   "cell_type": "code",
   "execution_count": 33,
   "metadata": {},
   "outputs": [
    {
     "name": "stdout",
     "output_type": "stream",
     "text": [
      "[19:54:59] WARNING: ../src/objective/regression_obj.cu:213: reg:linear is now deprecated in favor of reg:squarederror.\n",
      "[0]\tvalidation-rmse:12.42078\n",
      "[1]\tvalidation-rmse:9.37398\n",
      "[2]\tvalidation-rmse:8.50815\n",
      "[3]\tvalidation-rmse:8.26735\n",
      "[4]\tvalidation-rmse:8.19086\n",
      "[5]\tvalidation-rmse:8.16348\n",
      "[6]\tvalidation-rmse:8.15063\n",
      "[7]\tvalidation-rmse:8.13162\n",
      "[8]\tvalidation-rmse:8.12527\n",
      "[9]\tvalidation-rmse:8.11957\n",
      "[10]\tvalidation-rmse:8.11854\n",
      "[11]\tvalidation-rmse:8.11691\n",
      "[12]\tvalidation-rmse:8.11642\n",
      "[13]\tvalidation-rmse:8.11536\n",
      "[14]\tvalidation-rmse:8.11530\n",
      "[15]\tvalidation-rmse:8.11465\n",
      "[16]\tvalidation-rmse:8.11418\n",
      "[17]\tvalidation-rmse:8.11355\n",
      "[18]\tvalidation-rmse:8.11351\n",
      "[19]\tvalidation-rmse:8.11322\n",
      "[20]\tvalidation-rmse:8.11337\n",
      "[21]\tvalidation-rmse:8.11300\n",
      "[22]\tvalidation-rmse:8.11264\n",
      "[23]\tvalidation-rmse:8.11217\n",
      "[24]\tvalidation-rmse:8.11222\n",
      "[25]\tvalidation-rmse:8.11206\n",
      "[26]\tvalidation-rmse:8.11199\n",
      "[27]\tvalidation-rmse:8.11185\n",
      "[28]\tvalidation-rmse:8.11189\n",
      "[29]\tvalidation-rmse:8.11197\n",
      "[30]\tvalidation-rmse:8.11203\n",
      "[31]\tvalidation-rmse:8.11202\n",
      "[32]\tvalidation-rmse:8.11191\n",
      "[33]\tvalidation-rmse:8.11196\n",
      "[34]\tvalidation-rmse:8.11174\n",
      "[35]\tvalidation-rmse:8.11156\n",
      "[36]\tvalidation-rmse:8.11146\n",
      "[37]\tvalidation-rmse:8.11148\n",
      "[38]\tvalidation-rmse:8.11140\n",
      "[39]\tvalidation-rmse:8.11121\n",
      "[40]\tvalidation-rmse:8.11127\n",
      "[41]\tvalidation-rmse:8.11134\n",
      "[42]\tvalidation-rmse:8.11136\n",
      "[43]\tvalidation-rmse:8.11128\n",
      "[44]\tvalidation-rmse:8.11119\n",
      "[45]\tvalidation-rmse:8.11115\n",
      "[46]\tvalidation-rmse:8.11113\n",
      "[47]\tvalidation-rmse:8.11091\n",
      "[48]\tvalidation-rmse:8.11073\n",
      "[49]\tvalidation-rmse:8.11060\n",
      "[50]\tvalidation-rmse:8.11048\n",
      "[51]\tvalidation-rmse:8.11048\n",
      "[52]\tvalidation-rmse:8.11042\n",
      "[53]\tvalidation-rmse:8.11049\n",
      "[54]\tvalidation-rmse:8.11053\n",
      "[55]\tvalidation-rmse:8.11040\n",
      "[56]\tvalidation-rmse:8.11039\n",
      "[57]\tvalidation-rmse:8.11021\n",
      "[58]\tvalidation-rmse:8.11016\n",
      "[59]\tvalidation-rmse:8.11010\n",
      "[60]\tvalidation-rmse:8.11012\n",
      "[61]\tvalidation-rmse:8.10987\n",
      "[62]\tvalidation-rmse:8.10993\n",
      "[63]\tvalidation-rmse:8.10998\n",
      "[64]\tvalidation-rmse:8.10986\n",
      "[65]\tvalidation-rmse:8.11007\n",
      "[66]\tvalidation-rmse:8.10995\n",
      "[67]\tvalidation-rmse:8.10982\n",
      "[68]\tvalidation-rmse:8.10976\n",
      "[69]\tvalidation-rmse:8.10980\n",
      "[70]\tvalidation-rmse:8.10970\n",
      "[71]\tvalidation-rmse:8.10966\n",
      "[72]\tvalidation-rmse:8.10975\n",
      "[73]\tvalidation-rmse:8.10966\n",
      "[74]\tvalidation-rmse:8.10950\n",
      "[75]\tvalidation-rmse:8.10929\n",
      "[76]\tvalidation-rmse:8.10933\n",
      "[77]\tvalidation-rmse:8.10940\n",
      "[78]\tvalidation-rmse:8.10927\n",
      "[79]\tvalidation-rmse:8.10921\n",
      "[80]\tvalidation-rmse:8.10921\n",
      "[81]\tvalidation-rmse:8.10899\n",
      "[82]\tvalidation-rmse:8.10898\n",
      "[83]\tvalidation-rmse:8.10901\n",
      "[84]\tvalidation-rmse:8.10894\n",
      "[85]\tvalidation-rmse:8.10885\n",
      "[86]\tvalidation-rmse:8.10878\n",
      "[87]\tvalidation-rmse:8.10895\n",
      "[88]\tvalidation-rmse:8.10891\n",
      "[89]\tvalidation-rmse:8.10902\n",
      "[90]\tvalidation-rmse:8.10904\n",
      "[91]\tvalidation-rmse:8.10888\n",
      "[92]\tvalidation-rmse:8.10874\n",
      "[93]\tvalidation-rmse:8.10883\n",
      "[94]\tvalidation-rmse:8.10881\n",
      "[95]\tvalidation-rmse:8.10874\n",
      "[96]\tvalidation-rmse:8.10868\n",
      "[97]\tvalidation-rmse:8.10864\n",
      "[98]\tvalidation-rmse:8.10855\n",
      "[99]\tvalidation-rmse:8.10860\n",
      "[100]\tvalidation-rmse:8.10834\n",
      "[101]\tvalidation-rmse:8.10804\n",
      "[102]\tvalidation-rmse:8.10809\n",
      "[103]\tvalidation-rmse:8.10814\n",
      "[104]\tvalidation-rmse:8.10773\n",
      "[105]\tvalidation-rmse:8.10780\n",
      "[106]\tvalidation-rmse:8.10784\n",
      "[107]\tvalidation-rmse:8.10792\n",
      "[108]\tvalidation-rmse:8.10779\n",
      "[109]\tvalidation-rmse:8.10774\n",
      "[110]\tvalidation-rmse:8.10784\n",
      "[111]\tvalidation-rmse:8.10769\n",
      "[112]\tvalidation-rmse:8.10772\n",
      "[113]\tvalidation-rmse:8.10769\n",
      "[114]\tvalidation-rmse:8.10767\n",
      "[115]\tvalidation-rmse:8.10761\n",
      "[116]\tvalidation-rmse:8.10770\n",
      "[117]\tvalidation-rmse:8.10770\n",
      "[118]\tvalidation-rmse:8.10767\n",
      "[119]\tvalidation-rmse:8.10763\n",
      "[120]\tvalidation-rmse:8.10767\n",
      "[121]\tvalidation-rmse:8.10740\n",
      "[122]\tvalidation-rmse:8.10732\n",
      "[123]\tvalidation-rmse:8.10694\n",
      "[124]\tvalidation-rmse:8.10688\n",
      "[125]\tvalidation-rmse:8.10670\n",
      "[126]\tvalidation-rmse:8.10671\n",
      "[127]\tvalidation-rmse:8.10684\n",
      "[128]\tvalidation-rmse:8.10673\n",
      "[129]\tvalidation-rmse:8.10679\n",
      "[130]\tvalidation-rmse:8.10674\n",
      "[131]\tvalidation-rmse:8.10680\n",
      "[132]\tvalidation-rmse:8.10670\n",
      "[133]\tvalidation-rmse:8.10662\n",
      "[134]\tvalidation-rmse:8.10659\n",
      "[135]\tvalidation-rmse:8.10666\n",
      "[136]\tvalidation-rmse:8.10668\n",
      "[137]\tvalidation-rmse:8.10663\n",
      "[138]\tvalidation-rmse:8.10649\n",
      "[139]\tvalidation-rmse:8.10655\n",
      "[140]\tvalidation-rmse:8.10635\n",
      "[141]\tvalidation-rmse:8.10641\n",
      "[142]\tvalidation-rmse:8.10639\n",
      "[143]\tvalidation-rmse:8.10614\n",
      "[144]\tvalidation-rmse:8.10614\n",
      "[145]\tvalidation-rmse:8.10603\n",
      "[146]\tvalidation-rmse:8.10607\n",
      "[147]\tvalidation-rmse:8.10608\n",
      "[148]\tvalidation-rmse:8.10606\n",
      "[149]\tvalidation-rmse:8.10614\n",
      "[150]\tvalidation-rmse:8.10611\n",
      "[151]\tvalidation-rmse:8.10612\n",
      "[152]\tvalidation-rmse:8.10595\n",
      "[153]\tvalidation-rmse:8.10606\n",
      "[154]\tvalidation-rmse:8.10597\n",
      "[155]\tvalidation-rmse:8.10596\n",
      "[156]\tvalidation-rmse:8.10579\n",
      "[157]\tvalidation-rmse:8.10583\n",
      "[158]\tvalidation-rmse:8.10570\n",
      "[159]\tvalidation-rmse:8.10580\n",
      "[160]\tvalidation-rmse:8.10579\n",
      "[161]\tvalidation-rmse:8.10573\n",
      "[162]\tvalidation-rmse:8.10569\n",
      "[163]\tvalidation-rmse:8.10571\n",
      "[164]\tvalidation-rmse:8.10591\n",
      "[165]\tvalidation-rmse:8.10586\n",
      "[166]\tvalidation-rmse:8.10579\n",
      "[167]\tvalidation-rmse:8.10587\n",
      "[168]\tvalidation-rmse:8.10592\n",
      "[169]\tvalidation-rmse:8.10581\n",
      "[170]\tvalidation-rmse:8.10582\n",
      "[171]\tvalidation-rmse:8.10579\n",
      "[172]\tvalidation-rmse:8.10579\n",
      "[173]\tvalidation-rmse:8.10584\n",
      "[174]\tvalidation-rmse:8.10587\n",
      "[175]\tvalidation-rmse:8.10580\n",
      "[176]\tvalidation-rmse:8.10587\n",
      "[177]\tvalidation-rmse:8.10591\n",
      "[178]\tvalidation-rmse:8.10597\n",
      "[179]\tvalidation-rmse:8.10591\n",
      "[180]\tvalidation-rmse:8.10601\n",
      "[181]\tvalidation-rmse:8.10595\n",
      "[182]\tvalidation-rmse:8.10596\n",
      "[183]\tvalidation-rmse:8.10581\n",
      "[184]\tvalidation-rmse:8.10579\n",
      "[185]\tvalidation-rmse:8.10574\n",
      "[186]\tvalidation-rmse:8.10578\n",
      "[187]\tvalidation-rmse:8.10575\n",
      "[188]\tvalidation-rmse:8.10581\n",
      "[189]\tvalidation-rmse:8.10575\n",
      "[190]\tvalidation-rmse:8.10580\n",
      "[191]\tvalidation-rmse:8.10572\n",
      "[192]\tvalidation-rmse:8.10572\n",
      "[193]\tvalidation-rmse:8.10566\n",
      "[194]\tvalidation-rmse:8.10550\n",
      "[195]\tvalidation-rmse:8.10555\n",
      "[196]\tvalidation-rmse:8.10560\n",
      "[197]\tvalidation-rmse:8.10559\n",
      "[198]\tvalidation-rmse:8.10565\n",
      "[199]\tvalidation-rmse:8.10554\n"
     ]
    },
    {
     "name": "stderr",
     "output_type": "stream",
     "text": [
      "/home/arundac23/enter/envs/mlops-project-2023/lib/python3.9/site-packages/_distutils_hack/__init__.py:18: UserWarning: Distutils was imported before Setuptools, but importing Setuptools also replaces the `distutils` module in `sys.modules`. This may lead to undesirable behaviors or errors. To avoid these issues, avoid using distutils directly, ensure that setuptools is installed in the traditional way (e.g. not an editable install), and/or make sure that setuptools is always imported before distutils.\n",
      "  warnings.warn(\n",
      "/home/arundac23/enter/envs/mlops-project-2023/lib/python3.9/site-packages/_distutils_hack/__init__.py:33: UserWarning: Setuptools is replacing distutils.\n",
      "  warnings.warn(\"Setuptools is replacing distutils.\")\n"
     ]
    }
   ],
   "source": [
    "with mlflow.start_run(run_name='xgboost'):\n",
    "    train = xgb.DMatrix(X_train, label=y_train)\n",
    "    valid = xgb.DMatrix(X_val, label=y_val)\n",
    "    test = xgb.DMatrix(X_test,label=y_test)\n",
    "    Best_Params = {\n",
    "    'learning_rate':\t0.5458691870793922,\n",
    "    'max_depth':\t38,\n",
    "    'min_child_weight':\t7.968333201830882,\n",
    "    'objective':\t'reg:linear',\n",
    "    'reg_alpha':\t0.19154033738324955,\n",
    "    'reg_lambda':\t0.032825863134369984,\n",
    "    'seed':\t42\n",
    "    }\n",
    "mlflow.log_params(Best_Params)\n",
    "booster = xgb.train(\n",
    "        params=Best_Params,\n",
    "        dtrain=train,\n",
    "        num_boost_round=200,\n",
    "        evals=[(valid, 'validation')],\n",
    "        early_stopping_rounds=50\n",
    ")\n",
    "y_pred = booster.predict(valid)\n",
    "y_pred_test = booster.predict(test)\n",
    "rmse = mean_squared_error(y_val, y_pred, squared=False)\n",
    "rmse_test = mean_squared_error(y_test, y_pred_test, squared=False)\n",
    "mlflow.set_tag('developer', 'Arun')\n",
    "mlflow.set_tag('project', 'chicago taxi prediction')\n",
    "mlflow.log_param('train-data_path', Train_parquet_file_path)\n",
    "mlflow.log_param('Validation-data_path', Val_parquet_file_path)\n",
    "mlflow.log_param('Test-data_path', Test_parquet_file_path)\n",
    "mlflow.log_metric(\"val_rmse\", rmse)\n",
    "mlflow.log_metric(\"test_rmse\", rmse_test)\n",
    "\n",
    "with open('models/preprocessor.b','wb') as f_out:\n",
    "    pickle.dump(dv,f_out)\n",
    "mlflow.log_artifact('models/preprocessor.b',artifact_path='preprocessor')\n",
    "mlflow.xgboost.log_model(booster, artifact_path=\"models\")\n",
    "mlflow.end_run()"
   ]
  },
  {
   "cell_type": "code",
   "execution_count": 34,
   "metadata": {},
   "outputs": [],
   "source": [
    "from mlflow.tracking import MlflowClient\n",
    "import mlflow\n",
    "\n",
    "ML_FLOW_TRACKING_URI = \"sqlite:///mlflow.db\"\n",
    "client = MlflowClient(tracking_uri=ML_FLOW_TRACKING_URI)"
   ]
  },
  {
   "cell_type": "code",
   "execution_count": 35,
   "metadata": {},
   "outputs": [],
   "source": [
    "from mlflow.entities import ViewType\n",
    "runs = client.search_runs(\n",
    "    experiment_ids='1',\n",
    "    filter_string='metrics.test_rmse < 9',\n",
    "    run_view_type=ViewType.ACTIVE_ONLY,\n",
    "    max_results=5,\n",
    "    order_by=[\"metrics.test_rmse ASC\"]\n",
    ")"
   ]
  },
  {
   "cell_type": "code",
   "execution_count": 40,
   "metadata": {},
   "outputs": [
    {
     "name": "stdout",
     "output_type": "stream",
     "text": [
      "run id: aea032c047344461a62915b096cca1ee, \n",
      "Val_rmse: 8.106 \n",
      "Test rmse: 8.645\n",
      "run id: 39a811d73b284f92a656d103242c70e4, \n",
      "Val_rmse: 8.119 \n",
      "Test rmse: 8.658\n",
      "run id: 4033a44dd181406b8dd876faa49a3170, \n",
      "Val_rmse: 8.127 \n",
      "Test rmse: 8.666\n"
     ]
    }
   ],
   "source": [
    "for run in runs:\n",
    "    print(f\"run id: {run.info.run_id}, \\nVal_rmse: {run.data.metrics['val_rmse']:.3f} \\nTest rmse: {run.data.metrics['test_rmse']:.3f}\")"
   ]
  },
  {
   "cell_type": "code",
   "execution_count": 41,
   "metadata": {},
   "outputs": [],
   "source": [
    "mlflow.set_tracking_uri(ML_FLOW_TRACKING_URI)"
   ]
  },
  {
   "cell_type": "code",
   "execution_count": 42,
   "metadata": {},
   "outputs": [
    {
     "name": "stderr",
     "output_type": "stream",
     "text": [
      "Registered model 'chicago-taxi-prediction-model' already exists. Creating a new version of this model...\n",
      "2023/08/10 23:41:26 INFO mlflow.tracking._model_registry.client: Waiting up to 300 seconds for model version to finish creation. Model name: chicago-taxi-prediction-model, version 4\n",
      "Created version '4' of model 'chicago-taxi-prediction-model'.\n",
      "Registered model 'chicago-taxi-prediction-model' already exists. Creating a new version of this model...\n",
      "2023/08/10 23:41:26 INFO mlflow.tracking._model_registry.client: Waiting up to 300 seconds for model version to finish creation. Model name: chicago-taxi-prediction-model, version 5\n",
      "Created version '5' of model 'chicago-taxi-prediction-model'.\n",
      "Registered model 'chicago-taxi-prediction-model' already exists. Creating a new version of this model...\n",
      "2023/08/10 23:41:26 INFO mlflow.tracking._model_registry.client: Waiting up to 300 seconds for model version to finish creation. Model name: chicago-taxi-prediction-model, version 6\n",
      "Created version '6' of model 'chicago-taxi-prediction-model'.\n"
     ]
    }
   ],
   "source": [
    "run_ids = [\"aea032c047344461a62915b096cca1ee\",\"39a811d73b284f92a656d103242c70e4\",\"4033a44dd181406b8dd876faa49a3170\"]\n",
    "for run_id in run_ids:\n",
    "    model_uri = f\"runs:/{run_id}/model\"\n",
    "    mlflow.register_model(model_uri=model_uri, name=\"chicago-taxi-prediction-model\")"
   ]
  },
  {
   "cell_type": "code",
   "execution_count": 43,
   "metadata": {},
   "outputs": [
    {
     "name": "stdout",
     "output_type": "stream",
     "text": [
      "version: 1, status: Staging\n",
      "version: 6, status: None\n"
     ]
    }
   ],
   "source": [
    "model_name = 'chicago-taxi-prediction-model'\n",
    "latest_version = client.get_latest_versions(name=model_name)\n",
    "for version in latest_version:\n",
    "    print(f\"version: {version.version}, status: {version.current_stage}\")"
   ]
  },
  {
   "cell_type": "code",
   "execution_count": 44,
   "metadata": {},
   "outputs": [
    {
     "data": {
      "text/plain": [
       "<ModelVersion: aliases=[], creation_timestamp=1691722895624, current_stage='Staging', description=('Moved version 1 is selected for staging for this '\n",
       " 'chicago-taxi-prediction-model at 2023-08-10 23:29:19'), last_updated_timestamp=1691725350317, name='chicago-taxi-prediction-model', run_id='aea032c047344461a62915b096cca1ee', run_link=None, source='/home/arundac23/mlops-2023-project/experiment_tracking/mlruns/1/aea032c047344461a62915b096cca1ee/artifacts/model', status='READY', status_message=None, tags={}, user_id=None, version=1>"
      ]
     },
     "execution_count": 44,
     "metadata": {},
     "output_type": "execute_result"
    }
   ],
   "source": [
    "client.transition_model_version_stage(\n",
    "    name=model_name,\n",
    "    version=1,\n",
    "    stage=\"staging\",\n",
    "    archive_existing_versions=False\n",
    ")"
   ]
  },
  {
   "cell_type": "markdown",
   "metadata": {},
   "source": [
    "### STAGING THE BEST MODEL"
   ]
  },
  {
   "cell_type": "code",
   "execution_count": 45,
   "metadata": {},
   "outputs": [
    {
     "data": {
      "text/plain": [
       "<ModelVersion: aliases=[], creation_timestamp=1691722895624, current_stage='Staging', description=('Moved version 1 is selected for staging for this '\n",
       " 'chicago-taxi-prediction-model at 2023-08-10 23:42:43'), last_updated_timestamp=1691725363011, name='chicago-taxi-prediction-model', run_id='aea032c047344461a62915b096cca1ee', run_link=None, source='/home/arundac23/mlops-2023-project/experiment_tracking/mlruns/1/aea032c047344461a62915b096cca1ee/artifacts/model', status='READY', status_message=None, tags={}, user_id=None, version=1>"
      ]
     },
     "execution_count": 45,
     "metadata": {},
     "output_type": "execute_result"
    }
   ],
   "source": [
    "from datetime import datetime\n",
    "date = datetime.now().strftime(\"%Y-%m-%d %H:%M:%S\")\n",
    "client.update_model_version(\n",
    "    name=model_name,\n",
    "    version=1,\n",
    "    description=f\"Moved version 1 is selected for staging for this {model_name} at {date}\",\n",
    ")"
   ]
  }
 ],
 "metadata": {
  "kernelspec": {
   "display_name": "2022_mlzoomcamp-ubuntu",
   "language": "python",
   "name": "python3"
  },
  "language_info": {
   "codemirror_mode": {
    "name": "ipython",
    "version": 3
   },
   "file_extension": ".py",
   "mimetype": "text/x-python",
   "name": "python",
   "nbconvert_exporter": "python",
   "pygments_lexer": "ipython3",
   "version": "3.9.17"
  },
  "orig_nbformat": 4
 },
 "nbformat": 4,
 "nbformat_minor": 2
}
