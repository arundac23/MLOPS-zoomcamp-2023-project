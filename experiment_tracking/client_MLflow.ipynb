{
 "cells": [
  {
   "cell_type": "code",
   "execution_count": 5,
   "metadata": {},
   "outputs": [],
   "source": [
    "from mlflow.tracking import MlflowClient\n",
    "import mlflow\n",
    "\n",
    "ML_FLOW_TRACKING_URI = \"sqlite:///mlflow.db\"\n",
    "client = MlflowClient(tracking_uri=ML_FLOW_TRACKING_URI)"
   ]
  },
  {
   "cell_type": "code",
   "execution_count": 42,
   "metadata": {},
   "outputs": [],
   "source": [
    "from mlflow.entities import ViewType\n",
    "runs = client.search_runs(\n",
    "    experiment_ids='1',\n",
    "    filter_string='metrics.test_rmse < 9',\n",
    "    run_view_type=ViewType.ACTIVE_ONLY,\n",
    "    max_results=5,\n",
    "    order_by=[\"metrics.test_rmse ASC\"]\n",
    ")"
   ]
  },
  {
   "cell_type": "code",
   "execution_count": 43,
   "metadata": {},
   "outputs": [
    {
     "data": {
      "text/plain": [
       "[<Run: data=<RunData: metrics={'test_rmse': 8.645136751841473, 'val_rmse': 8.105536545425169}, params={'Test-data_path': 'data/chicago_taxi_test_dataset_2023-03.parquet',\n",
       "  'Validation-data_path': 'data/chicago_taxi_Val_dataset_2023-02.parquet',\n",
       "  'learning_rate': '0.5458691870793922',\n",
       "  'max_depth': '38',\n",
       "  'min_child_weight': '7.968333201830882',\n",
       "  'objective': 'reg:linear',\n",
       "  'reg_alpha': '0.19154033738324955',\n",
       "  'reg_lambda': '0.032825863134369984',\n",
       "  'seed': '42',\n",
       "  'train-data_path': 'data/chicago_taxi_train_dataset_2023-01.parquet'}, tags={'developer': 'Arun',\n",
       "  'mlflow.log-model.history': '[{\"run_id\": \"aea032c047344461a62915b096cca1ee\", '\n",
       "                              '\"artifact_path\": \"models\", \"utc_time_created\": '\n",
       "                              '\"2023-08-10 23:56:21.711254\", \"flavors\": '\n",
       "                              '{\"python_function\": {\"loader_module\": '\n",
       "                              '\"mlflow.xgboost\", \"python_version\": \"3.9.17\", '\n",
       "                              '\"data\": \"model.xgb\", \"env\": {\"conda\": '\n",
       "                              '\"conda.yaml\", \"virtualenv\": \"python_env.yaml\"}}, '\n",
       "                              '\"xgboost\": {\"xgb_version\": \"1.7.6\", \"data\": '\n",
       "                              '\"model.xgb\", \"model_class\": '\n",
       "                              '\"xgboost.core.Booster\", \"model_format\": \"xgb\", '\n",
       "                              '\"code\": null}}, \"model_uuid\": '\n",
       "                              '\"a7eb0f779ab94caa996b42b19fc563cb\", '\n",
       "                              '\"mlflow_version\": \"2.5.0\"}]',\n",
       "  'mlflow.runName': 'big-roo-513',\n",
       "  'mlflow.source.name': '/home/arundac23/enter/envs/mlops-project-2023/lib/python3.9/site-packages/ipykernel_launcher.py',\n",
       "  'mlflow.source.type': 'LOCAL',\n",
       "  'mlflow.user': 'arundac23',\n",
       "  'project': 'chicago taxi prediction'}>, info=<RunInfo: artifact_uri='/home/arundac23/mlops-2023-project/experiment_tracking/mlruns/1/aea032c047344461a62915b096cca1ee/artifacts', end_time=1691711783173, experiment_id='1', lifecycle_stage='active', run_id='aea032c047344461a62915b096cca1ee', run_name='big-roo-513', run_uuid='aea032c047344461a62915b096cca1ee', start_time=1691711699335, status='FINISHED', user_id='arundac23'>, inputs=<RunInputs: dataset_inputs=[]>>,\n",
       " <Run: data=<RunData: metrics={'test_rmse': 8.658390359289022, 'val_rmse': 8.11854983176106}, params={'Validation-data_path': 'data/chicago_taxi_Val_dataset_2023-02.parquet',\n",
       "  'max_depth': '10',\n",
       "  'min_samples_leaf': '4',\n",
       "  'min_samples_split': '10',\n",
       "  'n_estimators': '100',\n",
       "  'train-data_path': 'data/chicago_taxi_train_dataset_2023-01.parquet'}, tags={'developer': 'Arun',\n",
       "  'mlflow.log-model.history': '[{\"run_id\": \"39a811d73b284f92a656d103242c70e4\", '\n",
       "                              '\"artifact_path\": \"models\", \"utc_time_created\": '\n",
       "                              '\"2023-08-10 23:51:35.055022\", \"flavors\": '\n",
       "                              '{\"sklearn\": {\"pickled_model\": \"model.pkl\", '\n",
       "                              '\"sklearn_version\": \"1.3.0\", '\n",
       "                              '\"serialization_format\": \"cloudpickle\", \"code\": '\n",
       "                              'null}}, \"model_uuid\": '\n",
       "                              '\"e44b0030d03447e1b6960ac360bf6e89\", '\n",
       "                              '\"mlflow_version\": \"2.5.0\"}]',\n",
       "  'mlflow.runName': 'RandomForest',\n",
       "  'mlflow.source.name': '/home/arundac23/enter/envs/mlops-project-2023/lib/python3.9/site-packages/ipykernel_launcher.py',\n",
       "  'mlflow.source.type': 'LOCAL',\n",
       "  'mlflow.user': 'arundac23',\n",
       "  'model_name': 'RandomForest',\n",
       "  'project': 'chicago taxi prediction'}>, info=<RunInfo: artifact_uri='/home/arundac23/mlops-2023-project/experiment_tracking/mlruns/1/39a811d73b284f92a656d103242c70e4/artifacts', end_time=1691711496428, experiment_id='1', lifecycle_stage='active', run_id='39a811d73b284f92a656d103242c70e4', run_name='RandomForest', run_uuid='39a811d73b284f92a656d103242c70e4', start_time=1691711320601, status='FINISHED', user_id='arundac23'>, inputs=<RunInputs: dataset_inputs=[]>>,\n",
       " <Run: data=<RunData: metrics={'test_rmse': 8.666156803119927, 'val_rmse': 8.127108005447115}, params={'Validation-data_path': 'data/chicago_taxi_Val_dataset_2023-02.parquet',\n",
       "  'max_depth': 'None',\n",
       "  'min_samples_leaf': '8',\n",
       "  'min_samples_split': '2',\n",
       "  'n_estimators': '250',\n",
       "  'train-data_path': 'data/chicago_taxi_train_dataset_2023-01.parquet'}, tags={'developer': 'Arun',\n",
       "  'mlflow.log-model.history': '[{\"run_id\": \"4033a44dd181406b8dd876faa49a3170\", '\n",
       "                              '\"artifact_path\": \"models\", \"utc_time_created\": '\n",
       "                              '\"2023-08-10 23:54:58.131000\", \"flavors\": '\n",
       "                              '{\"sklearn\": {\"pickled_model\": \"model.pkl\", '\n",
       "                              '\"sklearn_version\": \"1.3.0\", '\n",
       "                              '\"serialization_format\": \"cloudpickle\", \"code\": '\n",
       "                              'null}}, \"model_uuid\": '\n",
       "                              '\"4a571a2f7cd34ae588709aa73a18c776\", '\n",
       "                              '\"mlflow_version\": \"2.5.0\"}]',\n",
       "  'mlflow.runName': 'ExtraTrees',\n",
       "  'mlflow.source.name': '/home/arundac23/enter/envs/mlops-project-2023/lib/python3.9/site-packages/ipykernel_launcher.py',\n",
       "  'mlflow.source.type': 'LOCAL',\n",
       "  'mlflow.user': 'arundac23',\n",
       "  'model_name': 'ExtraTrees',\n",
       "  'project': 'chicago taxi prediction'}>, info=<RunInfo: artifact_uri='/home/arundac23/mlops-2023-project/experiment_tracking/mlruns/1/4033a44dd181406b8dd876faa49a3170/artifacts', end_time=1691711699115, experiment_id='1', lifecycle_stage='active', run_id='4033a44dd181406b8dd876faa49a3170', run_name='ExtraTrees', run_uuid='4033a44dd181406b8dd876faa49a3170', start_time=1691711540881, status='FINISHED', user_id='arundac23'>, inputs=<RunInputs: dataset_inputs=[]>>]"
      ]
     },
     "execution_count": 43,
     "metadata": {},
     "output_type": "execute_result"
    }
   ],
   "source": [
    "runs"
   ]
  },
  {
   "cell_type": "code",
   "execution_count": 44,
   "metadata": {},
   "outputs": [
    {
     "name": "stdout",
     "output_type": "stream",
     "text": [
      "run id: aea032c047344461a62915b096cca1ee, rmse: 8.645\n",
      "run id: 39a811d73b284f92a656d103242c70e4, rmse: 8.658\n",
      "run id: 4033a44dd181406b8dd876faa49a3170, rmse: 8.666\n"
     ]
    }
   ],
   "source": [
    "for run in runs:\n",
    "    print(f\"run id: {run.info.run_id}, rmse: {run.data.metrics['test_rmse']:.3f}\")"
   ]
  },
  {
   "cell_type": "code",
   "execution_count": 45,
   "metadata": {},
   "outputs": [],
   "source": [
    "mlflow.set_tracking_uri(ML_FLOW_TRACKING_URI)"
   ]
  },
  {
   "cell_type": "code",
   "execution_count": 46,
   "metadata": {},
   "outputs": [
    {
     "name": "stderr",
     "output_type": "stream",
     "text": [
      "Successfully registered model 'chicago-taxi-prediction-model'.\n",
      "2023/08/10 23:01:35 INFO mlflow.tracking._model_registry.client: Waiting up to 300 seconds for model version to finish creation. Model name: chicago-taxi-prediction-model, version 1\n",
      "Created version '1' of model 'chicago-taxi-prediction-model'.\n"
     ]
    },
    {
     "data": {
      "text/plain": [
       "<ModelVersion: aliases=[], creation_timestamp=1691722895624, current_stage='None', description=None, last_updated_timestamp=1691722895624, name='chicago-taxi-prediction-model', run_id='aea032c047344461a62915b096cca1ee', run_link=None, source='/home/arundac23/mlops-2023-project/experiment_tracking/mlruns/1/aea032c047344461a62915b096cca1ee/artifacts/model', status='READY', status_message=None, tags={}, user_id=None, version=1>"
      ]
     },
     "execution_count": 46,
     "metadata": {},
     "output_type": "execute_result"
    }
   ],
   "source": [
    "run_id = \"aea032c047344461a62915b096cca1ee\"\n",
    "model_uri = f\"runs:/{run_id}/model\"\n",
    "mlflow.register_model(model_uri=model_uri, name=\"chicago-taxi-prediction-model\")"
   ]
  },
  {
   "cell_type": "code",
   "execution_count": 47,
   "metadata": {},
   "outputs": [
    {
     "name": "stderr",
     "output_type": "stream",
     "text": [
      "Registered model 'chicago-taxi-prediction-model' already exists. Creating a new version of this model...\n",
      "2023/08/10 23:04:12 INFO mlflow.tracking._model_registry.client: Waiting up to 300 seconds for model version to finish creation. Model name: chicago-taxi-prediction-model, version 2\n",
      "Created version '2' of model 'chicago-taxi-prediction-model'.\n"
     ]
    },
    {
     "data": {
      "text/plain": [
       "<ModelVersion: aliases=[], creation_timestamp=1691723052799, current_stage='None', description=None, last_updated_timestamp=1691723052799, name='chicago-taxi-prediction-model', run_id='39a811d73b284f92a656d103242c70e4', run_link=None, source='/home/arundac23/mlops-2023-project/experiment_tracking/mlruns/1/39a811d73b284f92a656d103242c70e4/artifacts/model', status='READY', status_message=None, tags={}, user_id=None, version=2>"
      ]
     },
     "execution_count": 47,
     "metadata": {},
     "output_type": "execute_result"
    }
   ],
   "source": [
    "run_id = \"39a811d73b284f92a656d103242c70e4\"\n",
    "model_uri = f\"runs:/{run_id}/model\"\n",
    "mlflow.register_model(model_uri=model_uri, name=\"chicago-taxi-prediction-model\")"
   ]
  },
  {
   "cell_type": "code",
   "execution_count": 48,
   "metadata": {},
   "outputs": [
    {
     "name": "stderr",
     "output_type": "stream",
     "text": [
      "Registered model 'chicago-taxi-prediction-model' already exists. Creating a new version of this model...\n",
      "2023/08/10 23:05:44 INFO mlflow.tracking._model_registry.client: Waiting up to 300 seconds for model version to finish creation. Model name: chicago-taxi-prediction-model, version 3\n",
      "Created version '3' of model 'chicago-taxi-prediction-model'.\n"
     ]
    },
    {
     "data": {
      "text/plain": [
       "<ModelVersion: aliases=[], creation_timestamp=1691723144657, current_stage='None', description=None, last_updated_timestamp=1691723144657, name='chicago-taxi-prediction-model', run_id='4033a44dd181406b8dd876faa49a3170', run_link=None, source='/home/arundac23/mlops-2023-project/experiment_tracking/mlruns/1/4033a44dd181406b8dd876faa49a3170/artifacts/model', status='READY', status_message=None, tags={}, user_id=None, version=3>"
      ]
     },
     "execution_count": 48,
     "metadata": {},
     "output_type": "execute_result"
    }
   ],
   "source": [
    "run_id = \"4033a44dd181406b8dd876faa49a3170\"\n",
    "model_uri = f\"runs:/{run_id}/model\"\n",
    "mlflow.register_model(model_uri=model_uri, name=\"chicago-taxi-prediction-model\")"
   ]
  },
  {
   "cell_type": "code",
   "execution_count": 61,
   "metadata": {},
   "outputs": [
    {
     "name": "stdout",
     "output_type": "stream",
     "text": [
      "version: 3, status: None\n"
     ]
    }
   ],
   "source": [
    "model_name = 'chicago-taxi-prediction-model'\n",
    "latest_version = client.get_latest_versions(name=model_name)\n",
    "for version in latest_version:\n",
    "    print(f\"version: {version.version}, status: {version.current_stage}\")"
   ]
  },
  {
   "cell_type": "code",
   "execution_count": 65,
   "metadata": {},
   "outputs": [
    {
     "data": {
      "text/plain": [
       "<ModelVersion: aliases=[], creation_timestamp=1691722895624, current_stage='Staging', description=None, last_updated_timestamp=1691724430158, name='chicago-taxi-prediction-model', run_id='aea032c047344461a62915b096cca1ee', run_link=None, source='/home/arundac23/mlops-2023-project/experiment_tracking/mlruns/1/aea032c047344461a62915b096cca1ee/artifacts/model', status='READY', status_message=None, tags={}, user_id=None, version=1>"
      ]
     },
     "execution_count": 65,
     "metadata": {},
     "output_type": "execute_result"
    }
   ],
   "source": [
    "client.transition_model_version_stage(\n",
    "    name=model_name,\n",
    "    version=1,\n",
    "    stage=\"staging\",\n",
    "    archive_existing_versions=False\n",
    ")"
   ]
  },
  {
   "cell_type": "code",
   "execution_count": 67,
   "metadata": {},
   "outputs": [
    {
     "data": {
      "text/plain": [
       "<ModelVersion: aliases=[], creation_timestamp=1691722895624, current_stage='Staging', description=('Moved version 1 is selected for staging for this '\n",
       " 'chicago-taxi-prediction-model at 2023-08-10 23:29:19'), last_updated_timestamp=1691724559537, name='chicago-taxi-prediction-model', run_id='aea032c047344461a62915b096cca1ee', run_link=None, source='/home/arundac23/mlops-2023-project/experiment_tracking/mlruns/1/aea032c047344461a62915b096cca1ee/artifacts/model', status='READY', status_message=None, tags={}, user_id=None, version=1>"
      ]
     },
     "execution_count": 67,
     "metadata": {},
     "output_type": "execute_result"
    }
   ],
   "source": [
    "from datetime import datetime\n",
    "date = datetime.now().strftime(\"%Y-%m-%d %H:%M:%S\")\n",
    "client.update_model_version(\n",
    "    name=model_name,\n",
    "    version=1,\n",
    "    description=f\"Moved version 1 is selected for staging for this {model_name} at {date}\",\n",
    ")"
   ]
  }
 ],
 "metadata": {
  "kernelspec": {
   "display_name": "mlops-project-2023",
   "language": "python",
   "name": "python3"
  },
  "language_info": {
   "codemirror_mode": {
    "name": "ipython",
    "version": 3
   },
   "file_extension": ".py",
   "mimetype": "text/x-python",
   "name": "python",
   "nbconvert_exporter": "python",
   "pygments_lexer": "ipython3",
   "version": "3.9.17"
  },
  "orig_nbformat": 4
 },
 "nbformat": 4,
 "nbformat_minor": 2
}
